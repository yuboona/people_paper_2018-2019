{
 "cells": [
  {
   "cell_type": "markdown",
   "metadata": {},
   "source": [
    "# 预处理人民日报数据"
   ]
  },
  {
   "cell_type": "markdown",
   "metadata": {},
   "source": [
    "1. 单个文本的通性处理\n",
    "2. 所有文本的处理"
   ]
  },
  {
   "cell_type": "markdown",
   "metadata": {},
   "source": [
    "## 单个文本的通性处理"
   ]
  },
  {
   "cell_type": "code",
   "execution_count": 38,
   "metadata": {},
   "outputs": [],
   "source": [
    "# 访问文件\n",
    "import os\n",
    "\n",
    "PATH = 'data'\n",
    "\n",
    "def traversal(path):\n",
    "    ls = os.listdir(path)\n",
    "    res = []\n",
    "    extra_ls = []\n",
    "    for l in ls:\n",
    "        if os.path.isdir(os.sep.join([path, l])):\n",
    "            extra_ls = traversal(os.sep.join([path, l]))\n",
    "        else:\n",
    "            res += [os.sep.join([path, l])]\n",
    "        res += extra_ls\n",
    "    return res\n",
    "\n",
    "txt_list = traversal(PATH)\n"
   ]
  },
  {
   "cell_type": "markdown",
   "metadata": {},
   "source": [
    "- 找出代表句子终结的中文符号"
   ]
  },
  {
   "cell_type": "code",
   "execution_count": 44,
   "metadata": {},
   "outputs": [
    {
     "name": "stdout",
     "output_type": "stream",
     "text": [
      "＂＃＄％＆＇（）＊＋，－／：；＜＝＞＠［＼］＾＿｀｛｜｝～｟｠｢｣､　、〃〈〉《》「」『』【】〔〕〖〗〘〙〚〛〜〝〞〟〰〾〿–—‘’‛“”„‟…‧﹏﹑﹔·！？｡。\n"
     ]
    }
   ],
   "source": [
    "from zhon.hanzi import punctuation as zh_punc\n",
    "\n",
    "print(zh_punc)\n",
    "end_punc = '，；﹔～〜…！？｡。—'"
   ]
  },
  {
   "cell_type": "code",
   "execution_count": 45,
   "metadata": {},
   "outputs": [],
   "source": [
    "\n",
    "\n",
    "def remove_nopunc_line():\n",
    "#     count = 0\n",
    "    with open('data/RMRB.txt', 'w', encoding='utf-8') as w:\n",
    "        for txt in txt_list:\n",
    "#             count+=1\n",
    "#             if count == 4:\n",
    "#                 break\n",
    "            with open(txt, 'r', encoding='utf-8') as r:\n",
    "                txt = r.read()\n",
    "#                 print(txt)\n",
    "                txt = txt.replace('\\n', '')\n",
    "                lines = txt.split()\n",
    "                for line in lines:\n",
    "                    if line[-1] not in end_punc:\n",
    "                        pass\n",
    "                    else:\n",
    "                        w.write(line)\n",
    "                        w.write('\\n')\n",
    "\n",
    "remove_nopunc_line()"
   ]
  },
  {
   "cell_type": "code",
   "execution_count": 1,
   "metadata": {},
   "outputs": [],
   "source": [
    "# 处理文本，使得只有一个符号的句子被删除\n",
    "with open('data/RMRB_v2.txt', 'w', encoding='utf-8') as w:\n",
    "    with open('data/RMRB.txt', 'r', encoding='utf-8') as r:\n",
    "#         count = 0\n",
    "        for l in r:\n",
    "#             count+=1\n",
    "#             if count==2:\n",
    "#                 break\n",
    "            if len(l) == 3:\n",
    "                pass\n",
    "            elif len(l) == 2:\n",
    "                pass\n",
    "            else:\n",
    "                w.write(l)"
   ]
  },
  {
   "cell_type": "markdown",
   "metadata": {},
   "source": [
    "- …… 应处理成句号\n",
    "- ’ 处理成‘空’\n",
    "- ” 处理成 ‘空’\n",
    "- ——句尾的 处理成‘逗号’\n",
    "- ·去除\n",
    "- 《 去除\n",
    "- （ 内部内容直接删除\n",
    "- ——句头的，删除\n",
    "- 【 】内部内容删除\n",
    "- 、 删除\n",
    "- 1.2. 删除\n",
    "- ● 删除\n",
    "- ： 变逗号\n",
    "- ?! 处理成？\n",
    "- ”“ 处理成顿号"
   ]
  }
 ],
 "metadata": {
  "kernelspec": {
   "display_name": "DataProc",
   "language": "python",
   "name": "dataproc"
  },
  "language_info": {
   "codemirror_mode": {
    "name": "ipython",
    "version": 3
   },
   "file_extension": ".py",
   "mimetype": "text/x-python",
   "name": "python",
   "nbconvert_exporter": "python",
   "pygments_lexer": "ipython3",
   "version": "3.6.9"
  },
  "toc": {
   "base_numbering": 1,
   "nav_menu": {},
   "number_sections": true,
   "sideBar": true,
   "skip_h1_title": false,
   "title_cell": "Table of Contents",
   "title_sidebar": "Contents",
   "toc_cell": false,
   "toc_position": {},
   "toc_section_display": true,
   "toc_window_display": false
  },
  "varInspector": {
   "cols": {
    "lenName": 16,
    "lenType": 16,
    "lenVar": "80"
   },
   "kernels_config": {
    "python": {
     "delete_cmd_postfix": "",
     "delete_cmd_prefix": "del ",
     "library": "var_list.py",
     "varRefreshCmd": "print(var_dic_list())"
    },
    "r": {
     "delete_cmd_postfix": ") ",
     "delete_cmd_prefix": "rm(",
     "library": "var_list.r",
     "varRefreshCmd": "cat(var_dic_list()) "
    }
   },
   "types_to_exclude": [
    "module",
    "function",
    "builtin_function_or_method",
    "instance",
    "_Feature"
   ],
   "window_display": false
  }
 },
 "nbformat": 4,
 "nbformat_minor": 2
}
